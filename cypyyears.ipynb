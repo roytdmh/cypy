{
 "cells": [
  {
   "cell_type": "code",
   "execution_count": 16,
   "id": "72cab197",
   "metadata": {},
   "outputs": [
    {
     "name": "stdout",
     "output_type": "stream",
     "text": [
      "Enter Species Name: Timber\n",
      "Enter No. of trees: 5\n",
      "Enter No. of years: 6\n",
      "Total carbon sequestration for 5 Timber trees over 6.0 years: 2.8499999999999996 tons\n"
     ]
    }
   ],
   "source": [
    "# Define a class called Tree to represent a tree species and its carbon sequestration rate per year\n",
    "class Tree:\n",
    "    def __init__(self, species, carbon_per_tree):\n",
    "        self.species = species  # Assign the species name\n",
    "        self.carbon_per_tree = carbon_per_tree  # Assign the carbon sequestration rate per year for this tree species\n",
    "\n",
    "# Define a function to calculate the total carbon sequestration for a given species of trees over a specified number of years\n",
    "def calculate_total_sequestration(trees, species, num_trees, years):\n",
    "    total_sequestration = 0  # Initialize the total carbon sequestration\n",
    "    # Iterate through each tree in the list of trees\n",
    "    for tree in trees:\n",
    "        # Check if the species of the current tree matches the specified species\n",
    "        if tree.species == species:\n",
    "            # Add the carbon sequestration for this tree species over the specified number of years to the total\n",
    "            total_sequestration += tree.carbon_per_tree * num_trees * years\n",
    "    return total_sequestration  # Return the total carbon sequestration\n",
    "\n",
    "# Define the main function to execute the program\n",
    "def main():\n",
    "    # Define a list of Tree objects with predefined species and carbon sequestration rates per year\n",
    "    trees = [\n",
    "        Tree('Neem', 0.025),   # Carbon sequestration per year for Neem tree\n",
    "        Tree('Palm', 0.278),   # Carbon sequestration per year for Palm tree\n",
    "        Tree('Mango', 0.0217), # Carbon sequestration per year for Mango tree\n",
    "        Tree('Timber',0.095),\n",
    "    ]\n",
    "    \n",
    "    # Prompt the user to enter the species name, number of trees, and number of years\n",
    "    species_input = input(\"Enter Species Name: \")  # Input species name\n",
    "    num_trees_input = int(input('Enter No. of trees: '))  # Input number of trees\n",
    "    years_input = float(input('Enter No. of years: '))  # Input number of years for carbon sequestration\n",
    "    \n",
    "    # Calculate the total carbon sequestration for the specified species of trees over the specified number of years\n",
    "    total_sequestration = calculate_total_sequestration(trees, species_input, num_trees_input, years_input)\n",
    "    \n",
    "    # Display the total carbon sequestration for the specified species of trees over the specified number of years\n",
    "    print(f\"Total carbon sequestration for {num_trees_input} {species_input} trees over {years_input} years: {total_sequestration} tons\")\n",
    "\n",
    "# Check if the script is being run directly\n",
    "if __name__ == \"__main__\":\n",
    "    main()  # Call the main function to execute the program"
   ]
  },
  {
   "cell_type": "code",
   "execution_count": null,
   "id": "c644374d",
   "metadata": {},
   "outputs": [],
   "source": []
  }
 ],
 "metadata": {
  "kernelspec": {
   "display_name": "Python 3 (ipykernel)",
   "language": "python",
   "name": "python3"
  },
  "language_info": {
   "codemirror_mode": {
    "name": "ipython",
    "version": 3
   },
   "file_extension": ".py",
   "mimetype": "text/x-python",
   "name": "python",
   "nbconvert_exporter": "python",
   "pygments_lexer": "ipython3",
   "version": "3.11.7"
  }
 },
 "nbformat": 4,
 "nbformat_minor": 5
}
